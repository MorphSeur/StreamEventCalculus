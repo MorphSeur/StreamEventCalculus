{
 "cells": [
  {
   "cell_type": "code",
   "execution_count": null,
   "id": "3d8fb167-4714-4b3c-a867-a397e03a96cb",
   "metadata": {},
   "outputs": [],
   "source": [
    "##0 'brew'\n",
    "##1 'water'\n",
    "##2 'drink'\n",
    "##3 'pour'\n",
    "##4 'hold'\n",
    "##5 'open'\n",
    "##6 'clean'\n",
    "##7 'close'\n",
    "##8 'season'\n",
    "##9 'serve'\n",
    "##10 'heat'"
   ]
  },
  {
   "cell_type": "code",
   "execution_count": 1,
   "id": "709b71af-2d27-4acb-aef6-71b649980fb5",
   "metadata": {},
   "outputs": [
    {
     "name": "stdout",
     "output_type": "stream",
     "text": [
      "HiHi\n",
      "intenPredictedYDXJ0133 shape (17596,)\n",
      "intenRealYDXJ0133 shape (17596,)\n"
     ]
    }
   ],
   "source": [
    "# Load \n",
    "# Concatenation of activity and location\n",
    "\n",
    "print(\"HiHi\")\n",
    "\n",
    "import numpy as np\n",
    "\n",
    "mainPath = \"/raid/home/labuseraber/environment/testEnvironment/OnlineECParser/lp/metrics/\"\n",
    "\n",
    "intenPredictedYDXJ0133  = np.loadtxt(mainPath + 'intenPredicted.txt')\n",
    "intenRealYDXJ0133       = np.loadtxt(mainPath + 'intenReal.txt')\n",
    "\n",
    "print(\"intenPredictedYDXJ0133 shape\", intenPredictedYDXJ0133.shape)\n",
    "print(\"intenRealYDXJ0133 shape\", intenRealYDXJ0133.shape)"
   ]
  },
  {
   "cell_type": "code",
   "execution_count": 3,
   "id": "c4d9b68c-7fed-4933-9dee-e20bb5695e07",
   "metadata": {},
   "outputs": [
    {
     "name": "stdout",
     "output_type": "stream",
     "text": [
      "\n",
      "Accuracy of Reasoning:  0.897306205955899 \n",
      "--------------------------------------------------------\n",
      "\n",
      "Confusion matrix:\n",
      "\n",
      " [[  501     0    87     0     0     0   239     0     0   104    28]\n",
      " [    0     9     0     0     0     0     0     0     0     0     0]\n",
      " [    0     0    26     0     0     0     0     0     0     0     0]\n",
      " [    0     0     0   821   234     0     0     0     0     0     0]\n",
      " [    0     0     0     0 11306   109   664     0     0     0     0]\n",
      " [    0     0     0     0    68   999   138     0     0     0     0]\n",
      " [    0     0     0     0   136     0  1142     0     0     0     0]\n",
      " [    0     0     0     0     0     0     0   356     0     0     0]\n",
      " [    0     0     0     0     0     0     0     0   542     0     0]\n",
      " [    0     0     0     0     0     0     0     0     0    38     0]\n",
      " [    0     0     0     0     0     0     0     0     0     0    49]] \n",
      "--------------------------------------------------------\n",
      "\n",
      "Classification report:\n",
      "\n",
      "               precision    recall  f1-score   support\n",
      "\n",
      "         0.0     1.0000    0.5224    0.6863       959\n",
      "         1.0     1.0000    1.0000    1.0000         9\n",
      "         2.0     0.2301    1.0000    0.3741        26\n",
      "         3.0     1.0000    0.7782    0.8753      1055\n",
      "         4.0     0.9627    0.9360    0.9492     12079\n",
      "         5.0     0.9016    0.8290    0.8638      1205\n",
      "         6.0     0.5231    0.8936    0.6599      1278\n",
      "         7.0     1.0000    1.0000    1.0000       356\n",
      "         8.0     1.0000    1.0000    1.0000       542\n",
      "         9.0     0.2676    1.0000    0.4222        38\n",
      "        10.0     0.6364    1.0000    0.7778        49\n",
      "\n",
      "    accuracy                         0.8973     17596\n",
      "   macro avg     0.7747    0.9054    0.7826     17596\n",
      "weighted avg     0.9293    0.8973    0.9037     17596\n",
      " \n",
      "--------------------------------------------------------\n",
      "--------------------------------------------------------\n",
      "--------------------------------------------------------\n"
     ]
    }
   ],
   "source": [
    "from sklearn.metrics import classification_report\n",
    "from sklearn.metrics import confusion_matrix\n",
    "from sklearn.metrics import accuracy_score\n",
    "import numpy as np\n",
    "from numpy import savetxt\n",
    "\n",
    "LABELS = [\"brew\", \"water\", \"drink\", \"pour\", \"hold\", \"open\", \"clean\", \"close\", \"season\", \"serve\", \"heat\"]\n",
    "\n",
    "A = intenPredictedYDXJ0133\n",
    "B = intenRealYDXJ0133\n",
    "\n",
    "print(\"\\nAccuracy of Reasoning: \", accuracy_score(A, B), \"\\n--------------------------------------------------------\")\n",
    "print(\"\\nConfusion matrix:\\n\\n\", confusion_matrix(A, B), \"\\n--------------------------------------------------------\")\n",
    "print(\"\\nClassification report:\\n\\n\", classification_report(A, B, digits=4), \"\\n--------------------------------------------------------\\n--------------------------------------------------------\\n--------------------------------------------------------\")"
   ]
  },
  {
   "cell_type": "code",
   "execution_count": null,
   "id": "5e6d180b",
   "metadata": {},
   "outputs": [],
   "source": []
  }
 ],
 "metadata": {
  "kernelspec": {
   "display_name": "Python 3.7.7 (conda)",
   "language": "python",
   "name": "python3"
  },
  "language_info": {
   "codemirror_mode": {
    "name": "ipython",
    "version": 3
   },
   "file_extension": ".py",
   "mimetype": "text/x-python",
   "name": "python",
   "nbconvert_exporter": "python",
   "pygments_lexer": "ipython3",
   "version": "3.7.7"
  },
  "vscode": {
   "interpreter": {
    "hash": "0a65b7186210c01c79731794b8f8dadcce3608d2325e3db5362c97a4cd41ed5c"
   }
  }
 },
 "nbformat": 4,
 "nbformat_minor": 5
}
