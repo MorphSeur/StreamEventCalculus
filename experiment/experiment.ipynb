{
 "cells": [
  {
   "cell_type": "code",
   "execution_count": 73,
   "metadata": {},
   "outputs": [
    {
     "name": "stderr",
     "output_type": "stream",
     "text": [
      "/raid/home/labuseraber/environment/testEnvironment/OnlineECParser/experiment/decOrigin2.lp:17:3-26: info: atom does not occur in any rule head:\n",
      "  trajectory(F1,T1,F2,T2)\n",
      "\n",
      "/raid/home/labuseraber/environment/testEnvironment/OnlineECParser/experiment/decOrigin2.lp:23:3-30: info: atom does not occur in any rule head:\n",
      "  antiTrajectory(F1,T1,F2,T2)\n",
      "\n",
      "/raid/home/labuseraber/environment/testEnvironment/OnlineECParser/experiment/decOrigin2.lp:31:33-48: info: atom does not occur in any rule head:\n",
      "  releases(E,F,T)\n",
      "\n",
      "/raid/home/labuseraber/environment/testEnvironment/OnlineECParser/experiment/decOrigin2.lp:59:36-51: info: atom does not occur in any rule head:\n",
      "  releases(E,F,T)\n",
      "\n"
     ]
    }
   ],
   "source": [
    "# Run the reasoning system.\n",
    "import os\n",
    "import subprocess\n",
    "\n",
    "mainPath = '/raid/home/labuseraber/environment/testEnvironment/OnlineECParser/'\n",
    "\n",
    "# !chmod +x ./clingo/clingoLinux\n",
    "\n",
    "\"\"\"\n",
    "command = \"clingo\\\\clingoWindows.exe -c maxtime=3 -n 1 \" + \\\n",
    "            \"lp\\\\decOrigin2.lp \" + \\\n",
    "            \"lp\\\\sorts.lp \" + \\\n",
    "            \"lp\\\\events.lp \" + \\\n",
    "            \"lp\\\\activities.lp \" + \\\n",
    "            \"lp\\\\ecasp888.lp \" + \\\n",
    "            \"lp\\\\ecasp8882.lp \" + \\\n",
    "            \"lp\\\\ecasp88888.lp | \" + \\\n",
    "            \"clingo\\\\format-output.exe 3 > \" + \\\n",
    "            \"inference\\\\ecasp88.txt\"\"\"\n",
    "            \n",
    "command = mainPath + 'clingo/clingoLinux -c maxtime=' + '180' + ' -n 1 ' + \\\n",
    "            mainPath + 'experiment/decOrigin2.lp ' + \\\n",
    "            mainPath + 'experiment/ecasp888.lp ' + \\\n",
    "            mainPath + 'experiment/ecasp8888.lp ' + \\\n",
    "            mainPath + 'experiment/ecasp88888.lp ' + \\\n",
    "            mainPath + 'experiment/ecasp888888.lp | ' + \\\n",
    "            mainPath + 'clingo/format-output13042022_4.bin ' + '180' + ' > ' + \\\n",
    "            mainPath + 'experiment/ecasp88.txt'\n",
    "\n",
    "# print(command)\n",
    "osCommand = os.system(command)\n",
    "\n",
    "# /raid/home/labuseraber/environment/testEnvironment/OnlineECParser/clingo/format-output13042022_4.bin\n",
    "# /raid/home/labuseraber/environment/testEnvironment/OnlineECParser/clingo/format-output13042022_4.bin\n",
    "\n",
    "# clingo -c maxtime=655 -n 1 ./Trials/anticipation04032022/decOrigin2.lp ./Trials/anticipation04032022/ecasp888.lp ./Trials/anticipation04032022/ecasp8888.lp ./Trials/anticipation04032022/ecasp88888.lp ./Trials/anticipation04032022/ecasp888888.lp | format-output13042022_2 655 >./Trials/anticipation04032022/ecasp88.txt"
   ]
  }
 ],
 "metadata": {
  "kernelspec": {
   "display_name": "Python 3 (ipykernel)",
   "language": "python",
   "name": "python3"
  },
  "language_info": {
   "codemirror_mode": {
    "name": "ipython",
    "version": 3
   },
   "file_extension": ".py",
   "mimetype": "text/x-python",
   "name": "python",
   "nbconvert_exporter": "python",
   "pygments_lexer": "ipython3",
   "version": "3.7.7"
  },
  "vscode": {
   "interpreter": {
    "hash": "0a65b7186210c01c79731794b8f8dadcce3608d2325e3db5362c97a4cd41ed5c"
   }
  }
 },
 "nbformat": 4,
 "nbformat_minor": 4
}
